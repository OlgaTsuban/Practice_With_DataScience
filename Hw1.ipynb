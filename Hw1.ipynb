{
 "cells": [
  {
   "cell_type": "markdown",
   "id": "fced0c53",
   "metadata": {},
   "source": [
    "# Elements of linear algebra"
   ]
  },
  {
   "cell_type": "markdown",
   "id": "31dd30fd",
   "metadata": {},
   "source": [
    "#### Create a one-dimensional array (vector) of the first 10 natural numbers and print its values."
   ]
  },
  {
   "cell_type": "code",
   "execution_count": 1,
   "id": "59f6b220",
   "metadata": {},
   "outputs": [
    {
     "name": "stdout",
     "output_type": "stream",
     "text": [
      "[ 1  2  3  4  5  6  7  8  9 10]\n"
     ]
    }
   ],
   "source": [
    "import numpy as np\n",
    "a = np.array([1,2,3,4,5,6,7,8,9,10],dtype=int)\n",
    "print(a)"
   ]
  },
  {
   "cell_type": "code",
   "execution_count": 7,
   "id": "94c250a8",
   "metadata": {},
   "outputs": [
    {
     "name": "stdout",
     "output_type": "stream",
     "text": [
      "[ 1  2  3  4  5  6  7  8  9 10]\n"
     ]
    }
   ],
   "source": [
    "import numpy as np\n",
    "a = np.arange(1,11)\n",
    "print(a)"
   ]
  },
  {
   "cell_type": "markdown",
   "id": "55af6a46",
   "metadata": {},
   "source": [
    "#### Create a 3x3 matrix of zeros and print its values."
   ]
  },
  {
   "cell_type": "code",
   "execution_count": 1,
   "id": "e04553fd",
   "metadata": {},
   "outputs": [
    {
     "name": "stdout",
     "output_type": "stream",
     "text": [
      "[[0 0 0]\n",
      " [0 0 0]\n",
      " [0 0 0]]\n"
     ]
    }
   ],
   "source": [
    "import numpy as np\n",
    "a = np.array([[0, 0, 0],\n",
    "                      [0, 0, 0],\n",
    "                      [0, 0, 0]])\n",
    "\n",
    "print(a)"
   ]
  },
  {
   "cell_type": "code",
   "execution_count": 3,
   "id": "f55c40a6",
   "metadata": {},
   "outputs": [
    {
     "name": "stdout",
     "output_type": "stream",
     "text": [
      "[[0 0 0]\n",
      " [0 0 0]\n",
      " [0 0 0]]\n"
     ]
    }
   ],
   "source": [
    "import numpy as np\n",
    "a = np.zeros((3, 3), dtype=int)\n",
    "\n",
    "print(a)"
   ]
  },
  {
   "cell_type": "markdown",
   "id": "f39af578",
   "metadata": {},
   "source": [
    "#### Create a 5x5 matrix of random integers between 1 and 10 and print its values."
   ]
  },
  {
   "cell_type": "code",
   "execution_count": 4,
   "id": "6a786353",
   "metadata": {},
   "outputs": [
    {
     "name": "stdout",
     "output_type": "stream",
     "text": [
      "[[ 6  6  1  8  9]\n",
      " [ 8  8  2  9  3]\n",
      " [ 4  4  7  4  3]\n",
      " [ 8  8  6  5  6]\n",
      " [ 3  5 10  7  2]]\n"
     ]
    }
   ],
   "source": [
    "import numpy as np\n",
    "\n",
    "a = np.random.randint(1, 11, (5, 5))\n",
    "\n",
    "print(a)"
   ]
  },
  {
   "cell_type": "markdown",
   "id": "16e5b19d",
   "metadata": {},
   "source": [
    "#### Create a 4x4 matrix of random real numbers between 0 and 1 and print its values."
   ]
  },
  {
   "cell_type": "code",
   "execution_count": 7,
   "id": "1156e907",
   "metadata": {},
   "outputs": [
    {
     "name": "stdout",
     "output_type": "stream",
     "text": [
      "[[0.08600624 0.84042088 0.10152292 0.62900053]\n",
      " [0.76320404 0.13465201 0.48043392 0.10066763]\n",
      " [0.62948163 0.82122857 0.63892535 0.32472204]\n",
      " [0.50306871 0.34142149 0.57745038 0.33279787]]\n"
     ]
    }
   ],
   "source": [
    "import numpy as np\n",
    "a = np.random.rand(4,4)\n",
    "print(a)"
   ]
  },
  {
   "cell_type": "markdown",
   "id": "c6f0984f",
   "metadata": {},
   "source": [
    "#### Create two 5-element vectors of random integers between 1 and 10, and perform element-wise addition, subtraction, and multiplication on them."
   ]
  },
  {
   "cell_type": "code",
   "execution_count": 12,
   "id": "73603365",
   "metadata": {},
   "outputs": [
    {
     "name": "stdout",
     "output_type": "stream",
     "text": [
      "[10  3  7  9  6]\n",
      "[ 3 10  4  8 10]\n",
      "[13 13 11 17 16]\n",
      "[ 7 -7  3  1 -4]\n",
      "[30 30 28 72 60]\n"
     ]
    }
   ],
   "source": [
    "import numpy as np\n",
    "one = np.random.randint(1,11,5)\n",
    "print(one)\n",
    "two = np.random.randint(1,11,5)\n",
    "print(two)\n",
    "result_add = one + two\n",
    "print(result_add)\n",
    "result_sub = one - two\n",
    "print(result_sub)\n",
    "result_mul = one * two\n",
    "print(result_mul)"
   ]
  },
  {
   "cell_type": "markdown",
   "id": "6d3d0dda",
   "metadata": {},
   "source": [
    "#### Create two vectors of size 7, fill them with arbitrary numbers, and find their dot product."
   ]
  },
  {
   "cell_type": "code",
   "execution_count": 14,
   "id": "7c29e524",
   "metadata": {},
   "outputs": [
    {
     "name": "stdout",
     "output_type": "stream",
     "text": [
      "One: [0.27204556 0.82504947 0.03306127 0.06726138 0.20616766 0.49918153\n",
      " 0.30693842]\n",
      "Two: [0.37586671 0.36672783 0.52543684 0.68078618 0.76787351 0.93536926\n",
      " 0.76805726]\n",
      "Result: 1.3289597243086204\n"
     ]
    }
   ],
   "source": [
    "import numpy as np\n",
    "one = np.random.rand(7)\n",
    "print(\"One:\", one)\n",
    "two = np.random.rand(7)\n",
    "print(\"Two:\", two)\n",
    "result = np.dot(one, two)\n",
    "print(\"Result:\", result)"
   ]
  },
  {
   "cell_type": "markdown",
   "id": "3f9a613e",
   "metadata": {},
   "source": [
    "#### Create two matrices of size 2x2 and 2x3, fill them with random integers between 1 and 10, and multiply them together."
   ]
  },
  {
   "cell_type": "code",
   "execution_count": 18,
   "id": "a42eab8e",
   "metadata": {},
   "outputs": [
    {
     "name": "stdout",
     "output_type": "stream",
     "text": [
      "One: [[8 3]\n",
      " [9 9]]\n",
      "Two: [[ 9  8  4]\n",
      " [10  9  2]]\n",
      "Result: [[102  91  38]\n",
      " [171 153  54]]\n"
     ]
    }
   ],
   "source": [
    "import numpy as np\n",
    "one = np.random.randint(1,11, (2,2))\n",
    "print(\"One:\", one)\n",
    "two = np.random.randint(1,11, (2,3))\n",
    "print(\"Two:\", two)\n",
    "result = np.dot(one,two)\n",
    "print(\"Result:\", result)"
   ]
  },
  {
   "cell_type": "markdown",
   "id": "f91e993c",
   "metadata": {},
   "source": [
    "#### Create a 3x3 matrix of random integers between 1 and 10, and find its inverse matrix."
   ]
  },
  {
   "cell_type": "code",
   "execution_count": 20,
   "id": "72b4148f",
   "metadata": {},
   "outputs": [
    {
     "name": "stdout",
     "output_type": "stream",
     "text": [
      "Array: [[10  7  9]\n",
      " [ 6  4  3]\n",
      " [ 7  8  1]]\n",
      "Inverse [[-0.23529412  0.76470588 -0.17647059]\n",
      " [ 0.17647059 -0.62352941  0.28235294]\n",
      " [ 0.23529412 -0.36470588 -0.02352941]]\n"
     ]
    }
   ],
   "source": [
    "import numpy as np\n",
    "a = np.random.randint(1,11, (3,3))\n",
    "print(\"Array:\", a)\n",
    "a_inv = np.linalg.inv(a)\n",
    "print(\"Inverse\", a_inv)"
   ]
  },
  {
   "cell_type": "markdown",
   "id": "0b7f8abe",
   "metadata": {},
   "source": [
    "#### Create a 4x4 matrix of random real numbers between 0 and 1, and transpose it."
   ]
  },
  {
   "cell_type": "code",
   "execution_count": 2,
   "id": "26de77eb",
   "metadata": {},
   "outputs": [
    {
     "name": "stdout",
     "output_type": "stream",
     "text": [
      "Origin: [[0.47434791 0.06822895 0.15862982 0.11320108]\n",
      " [0.87961812 0.75423703 0.45710775 0.96689508]\n",
      " [0.6406212  0.05281806 0.66471632 0.33749654]\n",
      " [0.5557493  0.38283369 0.70913081 0.81983683]]\n",
      "Transposed matrix: [[0.47434791 0.87961812 0.6406212  0.5557493 ]\n",
      " [0.06822895 0.75423703 0.05281806 0.38283369]\n",
      " [0.15862982 0.45710775 0.66471632 0.70913081]\n",
      " [0.11320108 0.96689508 0.33749654 0.81983683]]\n"
     ]
    }
   ],
   "source": [
    "import numpy as np\n",
    "a = np.random.rand(4, 4)\n",
    "print(\"Origin:\",a)\n",
    "transposed_matrix = a.T\n",
    "print(\"Transposed matrix:\", transposed_matrix)"
   ]
  },
  {
   "cell_type": "markdown",
   "id": "8de98a23",
   "metadata": {},
   "source": [
    "#### Create a 3x4 matrix and a vector of size 4, fill them with random integers between 1 and 10, and multiply the matrix by the vector."
   ]
  },
  {
   "cell_type": "code",
   "execution_count": 5,
   "id": "a8737dba",
   "metadata": {},
   "outputs": [
    {
     "name": "stdout",
     "output_type": "stream",
     "text": [
      "Array: [[ 6  4  9  5]\n",
      " [10  3  8 10]\n",
      " [ 5  2  7  4]]\n",
      "Vector [6 6 7 2]\n",
      "Result [133 154  99]\n"
     ]
    }
   ],
   "source": [
    "import numpy as np\n",
    "array = np.random.randint(1,11, (3,4))\n",
    "print(\"Array:\", array)\n",
    "vector = np.random.randint(1, 11, 4)\n",
    "print(\"Vector\", vector)\n",
    "result = np.dot(array, vector)\n",
    "print(\"Result\", result)"
   ]
  },
  {
   "cell_type": "markdown",
   "id": "5857c002",
   "metadata": {},
   "source": [
    "#### Create a 2x3 matrix and a vector of size 3, fill them with random real numbers between 0 and 1, and multiply the matrix by the vector."
   ]
  },
  {
   "cell_type": "code",
   "execution_count": 7,
   "id": "776216e4",
   "metadata": {},
   "outputs": [
    {
     "name": "stdout",
     "output_type": "stream",
     "text": [
      "Array: [[0.8643839  0.52571956 0.38774307]\n",
      " [0.67144436 0.42571998 0.50505276]]\n",
      "Vector [0.82514026 0.81448027 0.61211195]\n",
      "Result [1.37876833 1.20992512]\n"
     ]
    }
   ],
   "source": [
    "import numpy as np\n",
    "array = np.random.rand(2, 3)\n",
    "print(\"Array:\", array)\n",
    "vector = np.random.rand(3)\n",
    "print(\"Vector\", vector)  \n",
    "result = np.dot(array, vector)\n",
    "print(\"Result\", result)"
   ]
  },
  {
   "cell_type": "markdown",
   "id": "c4c8ac76",
   "metadata": {},
   "source": [
    "#### Create two 2x2 matrices, fill them with random integers between 1 and 10, and perform element-wise multiplication."
   ]
  },
  {
   "cell_type": "code",
   "execution_count": 8,
   "id": "cc2025b4",
   "metadata": {},
   "outputs": [
    {
     "name": "stdout",
     "output_type": "stream",
     "text": [
      "Array: [[2 7]\n",
      " [1 2]]\n",
      "Array: [[6 1]\n",
      " [8 6]]\n",
      "Result [[12  7]\n",
      " [ 8 12]]\n"
     ]
    }
   ],
   "source": [
    "import numpy as np\n",
    "array1 = np.random.randint(1,11, (2,2))\n",
    "print(\"Array:\", array1)\n",
    "array2 = np.random.randint(1,11, (2,2))\n",
    "print(\"Array:\", array2)\n",
    "result = array1 * array2\n",
    "print(\"Result\", result)"
   ]
  },
  {
   "cell_type": "markdown",
   "id": "082a7912",
   "metadata": {},
   "source": [
    "#### Create two 2x2 matrices, fill them with random integers between 1 and 10, and find their product."
   ]
  },
  {
   "cell_type": "code",
   "execution_count": 9,
   "id": "30b2660a",
   "metadata": {},
   "outputs": [
    {
     "name": "stdout",
     "output_type": "stream",
     "text": [
      "Array: [[9 2]\n",
      " [1 4]]\n",
      "Array: [[8 1]\n",
      " [7 5]]\n",
      "Result: [[86 19]\n",
      " [36 21]]\n"
     ]
    }
   ],
   "source": [
    "import numpy as np\n",
    "array1 = np.random.randint(1,11, (2,2))\n",
    "print(\"Array:\", array1)\n",
    "array2 = np.random.randint(1,11, (2,2))\n",
    "print(\"Array:\", array2)\n",
    "result = np.dot(array1, array2)\n",
    "print(\"Result:\", result)"
   ]
  },
  {
   "cell_type": "markdown",
   "id": "62225abf",
   "metadata": {},
   "source": [
    "#### Create a 5x5 matrix, fill it with random integers between 1 and 100, and find the sum of the matrix elements."
   ]
  },
  {
   "cell_type": "code",
   "execution_count": 11,
   "id": "2eddc2f6",
   "metadata": {},
   "outputs": [
    {
     "name": "stdout",
     "output_type": "stream",
     "text": [
      "Array: [[ 73  63  86  12  46]\n",
      " [ 83  26  96  64  73]\n",
      " [ 28  33  80 100  16]\n",
      " [  8 100  34  59  17]\n",
      " [ 37 100  77  60  21]]\n",
      "Result: 1392\n"
     ]
    }
   ],
   "source": [
    "import numpy as np\n",
    "array1 = np.random.randint(1,101, (5,5))\n",
    "print(\"Array:\", array1)\n",
    "result = array1.sum()\n",
    "print(\"Result:\", result)"
   ]
  },
  {
   "cell_type": "markdown",
   "id": "68270f2a",
   "metadata": {},
   "source": [
    "#### Create two 4x4 matrices, fill them with random integers between 1 and 10, and find their difference."
   ]
  },
  {
   "cell_type": "code",
   "execution_count": 12,
   "id": "40ae7295",
   "metadata": {},
   "outputs": [
    {
     "name": "stdout",
     "output_type": "stream",
     "text": [
      "Array: [[10  6  4  1]\n",
      " [ 2  9  7 10]\n",
      " [10 10  4  6]\n",
      " [ 5  8  6  3]]\n",
      "Array: [[10  5 10  3]\n",
      " [ 5  6  5  3]\n",
      " [ 2  6  2  2]\n",
      " [ 5  7  7  6]]\n",
      "Result: [[ 0  1 -6 -2]\n",
      " [-3  3  2  7]\n",
      " [ 8  4  2  4]\n",
      " [ 0  1 -1 -3]]\n"
     ]
    }
   ],
   "source": [
    "import numpy as np\n",
    "array1 = np.random.randint(1,11, (4,4))\n",
    "print(\"Array:\", array1)\n",
    "array2 = np.random.randint(1,11, (4,4))\n",
    "print(\"Array:\", array2)\n",
    "result = array1 - array2\n",
    "print(\"Result:\", result)"
   ]
  },
  {
   "cell_type": "markdown",
   "id": "52267868",
   "metadata": {},
   "source": [
    "#### Create a 3x3 matrix, fill it with random real numbers between 0 and 1, and find the column vector containing the sum of the elements of each row of the matrix."
   ]
  },
  {
   "cell_type": "code",
   "execution_count": 17,
   "id": "fa93b627",
   "metadata": {},
   "outputs": [
    {
     "name": "stdout",
     "output_type": "stream",
     "text": [
      "Array: [[0.76003355 0.35129977 0.37503881]\n",
      " [0.67264582 0.45186787 0.3853841 ]\n",
      " [0.26374742 0.88963581 0.64058171]]\n",
      "Rowsum: [1.48637214 1.50989779 1.79396494]\n",
      "Column vector: [[1.48637214]\n",
      " [1.50989779]\n",
      " [1.79396494]]\n"
     ]
    }
   ],
   "source": [
    "import numpy as np\n",
    "array1 = np.random.rand(3, 3)\n",
    "print(\"Array:\", array1)\n",
    "row_sums = np.sum(array1, axis=1)\n",
    "print(\"Rowsum:\",row_sums)\n",
    "column_vector = np.reshape(row_sums, (3, 1))\n",
    "print(\"Column vector:\", column_vector)"
   ]
  },
  {
   "cell_type": "markdown",
   "id": "64e04821",
   "metadata": {},
   "source": [
    "#### Create a 3x4 matrix with arbitrary integers and create a matrix with the squares of these numbers."
   ]
  },
  {
   "cell_type": "code",
   "execution_count": 20,
   "id": "64c00231",
   "metadata": {},
   "outputs": [
    {
     "name": "stdout",
     "output_type": "stream",
     "text": [
      "Array: [[14  2 12  7]\n",
      " [10  5 14  5]\n",
      " [12  8 10  2]]\n",
      "Result: [[196   4 144  49]\n",
      " [100  25 196  25]\n",
      " [144  64 100   4]]\n"
     ]
    }
   ],
   "source": [
    "import numpy as np\n",
    "array = np.random.randint(1, 16, (3, 4))\n",
    "print(\"Array:\", array)\n",
    "result = array**2\n",
    "print(\"Result:\", result)"
   ]
  },
  {
   "cell_type": "markdown",
   "id": "620343d3",
   "metadata": {},
   "source": [
    "#### Create a vector of size 4, fill it with random integers between 1 and 50, and find the vector with the square roots of these numbers."
   ]
  },
  {
   "cell_type": "code",
   "execution_count": 22,
   "id": "d9ef4aa2",
   "metadata": {},
   "outputs": [
    {
     "name": "stdout",
     "output_type": "stream",
     "text": [
      "Array: [47 41 12  8]\n",
      "Result: [6.8556546  6.40312424 3.46410162 2.82842712]\n"
     ]
    }
   ],
   "source": [
    "import numpy as np\n",
    "array = np.random.randint(1, 51, (4))\n",
    "print(\"Array:\", array)\n",
    "result = np.sqrt(array)\n",
    "print(\"Result:\", result)"
   ]
  }
 ],
 "metadata": {
  "kernelspec": {
   "display_name": "Python 3 (ipykernel)",
   "language": "python",
   "name": "python3"
  },
  "language_info": {
   "codemirror_mode": {
    "name": "ipython",
    "version": 3
   },
   "file_extension": ".py",
   "mimetype": "text/x-python",
   "name": "python",
   "nbconvert_exporter": "python",
   "pygments_lexer": "ipython3",
   "version": "3.11.5"
  }
 },
 "nbformat": 4,
 "nbformat_minor": 5
}
