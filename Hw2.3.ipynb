{
 "cells": [
  {
   "cell_type": "markdown",
   "id": "eec5489a",
   "metadata": {},
   "source": [
    "## Data analize with Kaggle.com"
   ]
  },
  {
   "cell_type": "markdown",
   "id": "7dc73df4",
   "metadata": {},
   "source": [
    "#### Read the csv file (use the read_csv function). Output the first five lines (the head function is used)"
   ]
  },
  {
   "cell_type": "code",
   "execution_count": 1,
   "id": "20ad285d",
   "metadata": {},
   "outputs": [
    {
     "name": "stdout",
     "output_type": "stream",
     "text": [
      "                                                Name  \\\n",
      "0                      10-Day Green Smoothie Cleanse   \n",
      "1                                  11/22/63: A Novel   \n",
      "2            12 Rules for Life: An Antidote to Chaos   \n",
      "3                             1984 (Signet Classics)   \n",
      "4  5,000 Awesome Facts (About Everything!) (Natio...   \n",
      "\n",
      "                     Author  User Rating  Reviews  Price  Year        Genre  \n",
      "0                  JJ Smith          4.7    17350      8  2016  Non Fiction  \n",
      "1              Stephen King          4.6     2052     22  2011      Fiction  \n",
      "2        Jordan B. Peterson          4.7    18979     15  2018  Non Fiction  \n",
      "3             George Orwell          4.7    21424      6  2017      Fiction  \n",
      "4  National Geographic Kids          4.8     7665     12  2019  Non Fiction  \n"
     ]
    }
   ],
   "source": [
    "import pandas as pd\n",
    "\n",
    "df = pd.read_csv(\"bestsellers with categories.csv\")\n",
    "print(df.head())"
   ]
  },
  {
   "cell_type": "markdown",
   "id": "cedf85dd",
   "metadata": {},
   "source": [
    "#### Display the dimensions of the dataset (use the shape attribute)"
   ]
  },
  {
   "cell_type": "code",
   "execution_count": 3,
   "id": "5f11ae7c",
   "metadata": {},
   "outputs": [
    {
     "name": "stdout",
     "output_type": "stream",
     "text": [
      "(550, 7)\n"
     ]
    }
   ],
   "source": [
    "print(df.shape)"
   ]
  },
  {
   "cell_type": "markdown",
   "id": "50878c9b",
   "metadata": {},
   "source": [
    "* Про скільки книг зберігає дані датасет?\n",
    "> Відповідь: 550"
   ]
  },
  {
   "cell_type": "markdown",
   "id": "58f48269",
   "metadata": {},
   "source": [
    "#### Change the names for columns "
   ]
  },
  {
   "cell_type": "code",
   "execution_count": 3,
   "id": "2192180f",
   "metadata": {},
   "outputs": [
    {
     "name": "stdout",
     "output_type": "stream",
     "text": [
      "Index(['name', 'author', 'user_rating', 'reviews', 'price', 'year', 'genre'], dtype='object')\n"
     ]
    }
   ],
   "source": [
    "df.columns = ['name', 'author', 'user_rating', 'reviews', 'price', 'year', 'genre']\n",
    "\n",
    "print(df.columns)"
   ]
  },
  {
   "cell_type": "markdown",
   "id": "b881d33b",
   "metadata": {},
   "source": [
    "## Primary data analysis"
   ]
  },
  {
   "cell_type": "markdown",
   "id": "86d932f9",
   "metadata": {},
   "source": [
    "#### Count the proportion of missing values in each column"
   ]
  },
  {
   "cell_type": "code",
   "execution_count": 5,
   "id": "bde9fdc4",
   "metadata": {},
   "outputs": [
    {
     "name": "stdout",
     "output_type": "stream",
     "text": [
      "Missing values:\n",
      " name           0\n",
      "author         0\n",
      "user_rating    0\n",
      "reviews        0\n",
      "price          0\n",
      "year           0\n",
      "genre          0\n",
      "dtype: int64\n",
      "\n",
      " name           0.0\n",
      "author         0.0\n",
      "user_rating    0.0\n",
      "reviews        0.0\n",
      "price          0.0\n",
      "year           0.0\n",
      "genre          0.0\n",
      "dtype: float64\n"
     ]
    }
   ],
   "source": [
    "missing_values = df.isnull().sum()\n",
    "print(\"Missing values:\\n\", missing_values)\n",
    "\n",
    "missing_values_proportion = missing_values / df.shape[0]\n",
    "print(\"\\n\",missing_values_proportion)"
   ]
  },
  {
   "cell_type": "markdown",
   "id": "1a1b3e41",
   "metadata": {},
   "source": [
    "* Чи є в якихось змінних пропуски? (Так / ні)\n",
    "> Відповідь: ні"
   ]
  },
  {
   "cell_type": "markdown",
   "id": "2a9e9895",
   "metadata": {},
   "source": [
    "#### Find unique genres"
   ]
  },
  {
   "cell_type": "code",
   "execution_count": 6,
   "id": "f87ed5f4",
   "metadata": {},
   "outputs": [
    {
     "name": "stdout",
     "output_type": "stream",
     "text": [
      "['Non Fiction' 'Fiction']\n"
     ]
    }
   ],
   "source": [
    "unique_genres = df[\"genre\"].unique()\n",
    "print(unique_genres)"
   ]
  },
  {
   "cell_type": "markdown",
   "id": "4864435c",
   "metadata": {},
   "source": [
    "*  Які є унікальні жанри?\n",
    "> Відповідь: Non Fiction, Fiction"
   ]
  },
  {
   "cell_type": "markdown",
   "id": "87b98236",
   "metadata": {},
   "source": [
    "#### Build the diagram"
   ]
  },
  {
   "cell_type": "code",
   "execution_count": 8,
   "id": "3782e739",
   "metadata": {},
   "outputs": [
    {
     "data": {
      "image/png": "[encoded data removed]",
      "text/plain": [
       "<Figure size 640x480 with 1 Axes>"
      ]
     },
     "metadata": {},
     "output_type": "display_data"
    }
   ],
   "source": [
    "import matplotlib.pyplot as plt\n",
    "\n",
    "df['price'].plot(kind='hist', bins=20, color='skyblue', edgecolor='black')\n",
    "\n",
    "plt.title('Розподіл цін')\n",
    "plt.xlabel('Ціна')\n",
    "plt.ylabel('Частота')\n",
    "\n",
    "plt.show()\n"
   ]
  },
  {
   "cell_type": "markdown",
   "id": "79ec0b28",
   "metadata": {},
   "source": [
    "#### Find min, max, mean, median price"
   ]
  },
  {
   "cell_type": "code",
   "execution_count": 9,
   "id": "8aadf810",
   "metadata": {},
   "outputs": [
    {
     "name": "stdout",
     "output_type": "stream",
     "text": [
      "Максимальна ціна: 105\n",
      "Мінімальна ціна: 0\n",
      "Середня ціна: 13.1\n",
      "Медіанна ціна: 11.0\n"
     ]
    }
   ],
   "source": [
    "max_price = df[\"price\"].max()\n",
    "min_price = df[\"price\"].min()\n",
    "mean_price = df[\"price\"].mean()\n",
    "median_price = df[\"price\"].median()\n",
    "\n",
    "print(f\"Максимальна ціна: {max_price}\")\n",
    "print(f\"Мінімальна ціна: {min_price}\")\n",
    "print(f\"Середня ціна: {mean_price}\")\n",
    "print(f\"Медіанна ціна: {median_price}\")"
   ]
  },
  {
   "cell_type": "markdown",
   "id": "914ae620",
   "metadata": {},
   "source": [
    "*  Максимальна ціна?\n",
    "> Відповідь: 105"
   ]
  },
  {
   "cell_type": "markdown",
   "id": "ca0cba00",
   "metadata": {},
   "source": [
    "*  Мінімальна ціна?\n",
    "> Відповідь: 0"
   ]
  },
  {
   "cell_type": "markdown",
   "id": "0d1715a8",
   "metadata": {},
   "source": [
    "*  Середня ціна?\n",
    "> Відповідь: 13.1"
   ]
  },
  {
   "cell_type": "markdown",
   "id": "f96bf0cb",
   "metadata": {},
   "source": [
    "*  Медіанна ціна?\n",
    "> Відповідь: 11"
   ]
  },
  {
   "cell_type": "markdown",
   "id": "d5e2a2af",
   "metadata": {},
   "source": [
    "#### The highest rating"
   ]
  },
  {
   "cell_type": "code",
   "execution_count": 10,
   "id": "8aa12e14",
   "metadata": {},
   "outputs": [
    {
     "name": "stdout",
     "output_type": "stream",
     "text": [
      "4.9\n"
     ]
    }
   ],
   "source": [
    "max_rating = df[\"user_rating\"].max()\n",
    "print(max_rating)"
   ]
  },
  {
   "cell_type": "markdown",
   "id": "88d836cb",
   "metadata": {},
   "source": [
    "#### Amount of books with highest rating"
   ]
  },
  {
   "cell_type": "code",
   "execution_count": 11,
   "id": "305307f4",
   "metadata": {},
   "outputs": [
    {
     "name": "stdout",
     "output_type": "stream",
     "text": [
      "Кількість книг з найвищим рейтингом: 52\n"
     ]
    }
   ],
   "source": [
    "top_rated_books = df[df[\"user_rating\"] == max_rating]\n",
    "\n",
    "print(f\"Кількість книг з найвищим рейтингом: {len(top_rated_books)}\")"
   ]
  },
  {
   "cell_type": "markdown",
   "id": "ceea74fa",
   "metadata": {},
   "source": [
    "#### The book with the biggest numbers of reviews"
   ]
  },
  {
   "cell_type": "code",
   "execution_count": 15,
   "id": "41c1744a",
   "metadata": {},
   "outputs": [
    {
     "name": "stdout",
     "output_type": "stream",
     "text": [
      "87841\n",
      "Kнига має найбільше відгуків:                         name       author  user_rating  reviews  price  year  \\\n",
      "534  Where the Crawdads Sing  Delia Owens          4.8    87841     15  2019   \n",
      "\n",
      "       genre  \n",
      "534  Fiction  \n"
     ]
    }
   ],
   "source": [
    "max_review = df[\"reviews\"].max()\n",
    "print(max_review)\n",
    "top_reviewed_books = df[df[\"reviews\"] == max_review]\n",
    "\n",
    "print(f\"Kнига має найбільше відгуків: {top_reviewed_books}\")"
   ]
  },
  {
   "cell_type": "markdown",
   "id": "01699d58",
   "metadata": {},
   "source": [
    "#### The most expensive book of 2015"
   ]
  },
  {
   "cell_type": "code",
   "execution_count": 22,
   "id": "a920a922",
   "metadata": {},
   "outputs": [
    {
     "name": "stdout",
     "output_type": "stream",
     "text": [
      "Hайдорожча Kнига у 2015 році: Publication Manual of the American Psychological Association, 6th Edition\n"
     ]
    }
   ],
   "source": [
    "books_2015 = df[df[\"year\"] == 2015]\n",
    "\n",
    "most_expensive = books_2015[\"price\"].max()\n",
    "\n",
    "most_expensive_book_name = books_2015.loc[books_2015[\"price\"] == most_expensive, \"name\"].item()\n",
    "print(f\"Hайдорожча Kнига у 2015 році: {most_expensive_book_name}\")"
   ]
  },
  {
   "cell_type": "markdown",
   "id": "f043809f",
   "metadata": {},
   "source": [
    "#### Find how many Fiction books were in the Top 50 in 2010 (use &)"
   ]
  },
  {
   "cell_type": "code",
   "execution_count": 9,
   "id": "f704d540",
   "metadata": {},
   "outputs": [
    {
     "name": "stdout",
     "output_type": "stream",
     "text": [
      "Кількість книг Fiction у Топ-50 2010 року: 20\n"
     ]
    }
   ],
   "source": [
    "fiction_books_2010 = df[(df['genre'] == 'Fiction') & (df['year'] == 2010)]\n",
    "\n",
    "print(f\"Кількість книг Fiction у Топ-50 2010 року: {len(fiction_books_2010)}\")"
   ]
  },
  {
   "cell_type": "markdown",
   "id": "210f1c06",
   "metadata": {},
   "source": [
    "#### How many books rated 4.9 were ranked in 2010 and 2011 (use | or the isin function)?"
   ]
  },
  {
   "cell_type": "code",
   "execution_count": 13,
   "id": "a03d3091",
   "metadata": {},
   "outputs": [
    {
     "name": "stdout",
     "output_type": "stream",
     "text": [
      "Кількість книг з рейтингом 4.9 у 2010 та 2011 роках: 1\n"
     ]
    }
   ],
   "source": [
    "books_49_rating = df[(df['user_rating'] == 4.9) & (df['year'].isin([2010, 2011]))]\n",
    "\n",
    "books_count = len(books_49_rating)\n",
    "\n",
    "print(\"Кількість книг з рейтингом 4.9 у 2010 та 2011 роках:\", books_count)"
   ]
  },
  {
   "cell_type": "markdown",
   "id": "57517f83",
   "metadata": {},
   "source": [
    "#### Sort by increasing price all the books that made it into the ranking in 2015 and cost less than $8 (use the sort_values function)"
   ]
  },
  {
   "cell_type": "code",
   "execution_count": 18,
   "id": "075e8395",
   "metadata": {},
   "outputs": [
    {
     "name": "stdout",
     "output_type": "stream",
     "text": [
      "                                                  name              author  \\\n",
      "507                              To Kill a Mockingbird          Harper Lee   \n",
      "210                      Laugh-Out-Loud Jokes for Kids         Rob Elliott   \n",
      "206                         Knock-Knock Jokes for Kids         Rob Elliott   \n",
      "111                                    First 100 Words        Roger Priddy   \n",
      "123                               Giraffes Can't Dance       Giles Andreae   \n",
      "54   Creative Haven Creative Cats Coloring Book (Ad...     Marjorie Sarnat   \n",
      "63                      Dear Zoo: A Lift-the-Flap Book        Rod Campbell   \n",
      "89   Dover Creative Haven Art Nouveau Animal Design...         Marty Noble   \n",
      "478                        The Very Hungry Caterpillar          Eric Carle   \n",
      "201  Killing Reagan: The Violent Assault That Chang...       Bill O'Reilly   \n",
      "28                        Baby Touch and Feel: Animals                  DK   \n",
      "224                                   Love You Forever       Robert Munsch   \n",
      "55   Creative Haven Owls Coloring Book (Adult Color...     Marjorie Sarnat   \n",
      "17      Adult Coloring Book: Stress Relieving Patterns  Blue Star Coloring   \n",
      "376  The Four Agreements: A Practical Guide to Pers...     Don Miguel Ruiz   \n",
      "16   Adult Coloring Book: Stress Relieving Animal D...  Blue Star Coloring   \n",
      "253              Old School (Diary of a Wimpy Kid #10)         Jeff Kinney   \n",
      "\n",
      "     user_rating  reviews  price  year        genre  \n",
      "507          4.8    26234      0  2015      Fiction  \n",
      "210          4.6     6990      4  2015  Non Fiction  \n",
      "206          4.5     3673      4  2015  Non Fiction  \n",
      "111          4.7    17323      4  2015  Non Fiction  \n",
      "123          4.8    14038      4  2015      Fiction  \n",
      "54           4.8     4022      4  2015  Non Fiction  \n",
      "63           4.8    10922      5  2015      Fiction  \n",
      "89           4.6     2134      5  2015  Non Fiction  \n",
      "478          4.9    19546      5  2015      Fiction  \n",
      "201          4.6     5235      5  2015  Non Fiction  \n",
      "28           4.6     5360      5  2015  Non Fiction  \n",
      "224          4.8    18613      5  2015      Fiction  \n",
      "55           4.8     3871      5  2015  Non Fiction  \n",
      "17           4.4     2951      6  2015  Non Fiction  \n",
      "376          4.7    23308      6  2015  Non Fiction  \n",
      "16           4.6     2925      6  2015  Non Fiction  \n",
      "253          4.8     6169      7  2015      Fiction  \n",
      "\n",
      "The last book:\n",
      " name           Old School (Diary of a Wimpy Kid #10)\n",
      "author                                   Jeff Kinney\n",
      "user_rating                                      4.8\n",
      "reviews                                         6169\n",
      "price                                              7\n",
      "year                                            2015\n",
      "genre                                        Fiction\n",
      "Name: 253, dtype: object\n"
     ]
    }
   ],
   "source": [
    "books_2015 = df[df['year'] == 2015]\n",
    "cheap_books_2015 = books_2015[books_2015['price'] < 8]\n",
    "sorted_by_price = cheap_books_2015.sort_values(\"price\")\n",
    "print(sorted_by_price)\n",
    "print(\"\\nThe last book:\\n\", sorted_by_price.iloc[-1])"
   ]
  },
  {
   "cell_type": "markdown",
   "id": "662c5c91",
   "metadata": {},
   "source": [
    "* Який рейтинг у датасеті найвищий? \n",
    "> Відповідь: 4.9"
   ]
  },
  {
   "cell_type": "markdown",
   "id": "f2c1d292",
   "metadata": {},
   "source": [
    "* Скільки книг мають такий рейтинг?\n",
    "> Відповідь: 52"
   ]
  },
  {
   "cell_type": "markdown",
   "id": "83cfc216",
   "metadata": {},
   "source": [
    "* Яка книга має найбільше відгуків?\n",
    "> Відповідь: Where the Crawdads Sing  Delia Owens"
   ]
  },
  {
   "cell_type": "markdown",
   "id": "0a5c1c6c",
   "metadata": {},
   "source": [
    "* З тих книг, що потрапили до Топ-50 у 2015 році, яка книга найдорожча (можна використати проміжний датафрейм)? \n",
    "> Відповідь: Publication Manual of the American Psychological Association, 6th Edition"
   ]
  },
  {
   "cell_type": "markdown",
   "id": "2bdf17ec",
   "metadata": {},
   "source": [
    "* Скільки книг жанру Fiction потрапили до Топ-50 у 2010 році (використовуйте &)? \n",
    "> Відповідь: 20"
   ]
  },
  {
   "cell_type": "markdown",
   "id": "ad20086c",
   "metadata": {},
   "source": [
    "* Скільки книг з рейтингом 4.9 потрапило до рейтингу у 2010 та 2011 роках (використовуйте | або функцію isin)? \n",
    "> Відповідь: 1"
   ]
  },
  {
   "cell_type": "markdown",
   "id": "b4953c84",
   "metadata": {},
   "source": [
    "* Яка книга остання у відсортованому списку? \n",
    "> Відповідь: Old School (Diary of a Wimpy Kid #10)"
   ]
  },
  {
   "cell_type": "markdown",
   "id": "13d0afa6",
   "metadata": {},
   "source": [
    "## Aggregation of data and connection of tables"
   ]
  },
  {
   "cell_type": "markdown",
   "id": "cdf2ef11",
   "metadata": {},
   "source": [
    "#### Find the max/min price for all genres"
   ]
  },
  {
   "cell_type": "code",
   "execution_count": 19,
   "id": "e3a9a3c3",
   "metadata": {},
   "outputs": [
    {
     "name": "stdout",
     "output_type": "stream",
     "text": [
      "             max  min\n",
      "genre                \n",
      "Fiction       82    0\n",
      "Non Fiction  105    0\n"
     ]
    }
   ],
   "source": [
    "grouped_by_genre = df.groupby(\"genre\")\n",
    "\n",
    "aggregated_prices = grouped_by_genre[\"price\"].agg([\"max\", \"min\"])\n",
    "\n",
    "print(aggregated_prices)"
   ]
  },
  {
   "cell_type": "markdown",
   "id": "d8786ae1",
   "metadata": {},
   "source": [
    "* Максимальна ціна для жанру Fiction? \n",
    "> Відповідь: 82"
   ]
  },
  {
   "cell_type": "markdown",
   "id": "b5f33fee",
   "metadata": {},
   "source": [
    "* Мінімальна ціна для жанру Fiction? \n",
    "> Відповідь: 0"
   ]
  },
  {
   "cell_type": "markdown",
   "id": "b8d07401",
   "metadata": {},
   "source": [
    "* Максимальна ціна для жанру Non Fiction? \n",
    "> Відповідь: 105"
   ]
  },
  {
   "cell_type": "markdown",
   "id": "6ed85ab9",
   "metadata": {},
   "source": [
    "* Мінімальна ціна для жанру Non Fiction? \n",
    "> Відповідь: 0"
   ]
  },
  {
   "cell_type": "markdown",
   "id": "1bd88f14",
   "metadata": {},
   "source": [
    "#### DataFrame with amount of books for each author"
   ]
  },
  {
   "cell_type": "code",
   "execution_count": 41,
   "id": "9d3d135b",
   "metadata": {},
   "outputs": [
    {
     "name": "stdout",
     "output_type": "stream",
     "text": [
      "Size of tabel\n",
      " (248, 1)\n",
      "\n",
      "Author with most popular books(amount):\n",
      " count    12\n",
      "dtype: int64\n",
      "\n",
      "Author with most popular books(name):\n",
      " Jeff Kinney\n"
     ]
    }
   ],
   "source": [
    "grouped_by_auhtor = df.groupby(\"author\")\n",
    "aggregated_authors = grouped_by_auhtor[\"name\"].agg([\"count\"])\n",
    "\n",
    "print(\"Size of tabel\\n\", aggregated_authors.shape)\n",
    "print(\"\\nAuthor with most popular books(amount):\\n\", aggregated_authors.max())\n",
    "print(\"\\nAuthor with most popular books(name):\\n\", aggregated_authors.idxmax()[0])"
   ]
  },
  {
   "cell_type": "markdown",
   "id": "6019bb61",
   "metadata": {},
   "source": [
    "* Якої розмірності вийшла таблиця? \n",
    "> Відповідь: (248, 1)"
   ]
  },
  {
   "cell_type": "markdown",
   "id": "7c792083",
   "metadata": {},
   "source": [
    "* Який автор має найбільше книг? \n",
    "> Відповідь: Jeff Kinney"
   ]
  },
  {
   "cell_type": "markdown",
   "id": "8f5ee194",
   "metadata": {},
   "source": [
    "* Скільки книг цього автора? \n",
    "> Відповідь: 12"
   ]
  },
  {
   "cell_type": "markdown",
   "id": "c4ded188",
   "metadata": {},
   "source": [
    "#### Create a dataframe that will hold the average rating for each author (use the \"groupby\" and \"agg\" functions, use \"mean\" to calculate the average value)."
   ]
  },
  {
   "cell_type": "code",
   "execution_count": 42,
   "id": "f49f8b68",
   "metadata": {},
   "outputs": [
    {
     "name": "stdout",
     "output_type": "stream",
     "text": [
      "Min rating:  mean    3.9\n",
      "dtype: float64\n",
      "Author with Min rating:  Donna Tartt\n"
     ]
    }
   ],
   "source": [
    "grouped_by_auhtor = df.groupby(\"author\")\n",
    "aggregated_authors_mean = grouped_by_auhtor[\"user_rating\"].agg([\"mean\"])\n",
    "#print(aggregated_authors.head())\n",
    "\n",
    "print(\"Min rating: \", aggregated_authors_mean.min())\n",
    "print(\"Author with Min rating: \", aggregated_authors_mean.idxmin()[0])"
   ]
  },
  {
   "cell_type": "markdown",
   "id": "caa272e8",
   "metadata": {},
   "source": [
    "* У якого автора середній рейтинг мінімальний?\n",
    "> Відповідь: Donna Tartt"
   ]
  },
  {
   "cell_type": "markdown",
   "id": "5bcf956a",
   "metadata": {},
   "source": [
    "*  Який у цього автора середній рейтинг?\n",
    "> Відповідь: 3.9"
   ]
  },
  {
   "cell_type": "markdown",
   "id": "0b8dcd46",
   "metadata": {},
   "source": [
    "#### Concatenate the last two dataframes so that the number of books and the average rating are visible for each author (Use the \"concat\" function with axis=1). Save the result to a variable"
   ]
  },
  {
   "cell_type": "code",
   "execution_count": 43,
   "id": "da0a351b",
   "metadata": {},
   "outputs": [
    {
     "name": "stdout",
     "output_type": "stream",
     "text": [
      "                                    count      mean\n",
      "author                                             \n",
      "Abraham Verghese                        2  4.600000\n",
      "Adam Gasiewski                          1  4.400000\n",
      "Adam Mansbach                           1  4.800000\n",
      "Adir Levy                               1  4.800000\n",
      "Admiral William H. McRaven              1  4.700000\n",
      "Adult Coloring Book Designs             1  4.500000\n",
      "Alan Moore                              1  4.800000\n",
      "Alex Michaelides                        1  4.500000\n",
      "Alice Schertle                          1  4.900000\n",
      "Allie Brosh                             1  4.700000\n",
      "American Psychiatric Association        2  4.500000\n",
      "American Psychological Association     10  4.500000\n",
      "Amor Towles                             1  4.700000\n",
      "Amy Ramos                               2  4.300000\n",
      "Amy Shields                             1  4.800000\n",
      "Andy Weir                               1  4.700000\n",
      "Angie Grace                             1  4.600000\n",
      "Angie Thomas                            1  4.800000\n",
      "Ann Voskamp                             2  4.600000\n",
      "Ann Whitford Paul                       2  4.800000\n",
      "Anthony Bourdain                        1  4.800000\n",
      "Anthony Doerr                           2  4.600000\n",
      "Atul Gawande                            1  4.800000\n",
      "Audrey Niffenegger                      1  4.400000\n",
      "B. J. Novak                             2  4.800000\n",
      "Bessel van der Kolk M.D.                1  4.800000\n",
      "Bill Martin Jr.                         2  4.900000\n",
      "Bill O'Reilly                           7  4.642857\n",
      "Bill Simmons                            1  4.700000\n",
      "Blue Star Coloring                      2  4.500000\n",
      "Bob Woodward                            1  4.400000\n",
      "Brandon Stanton                         3  4.833333\n",
      "Brené Brown                            1  4.800000\n",
      "Brian Kilmeade                          1  4.600000\n",
      "Bruce Springsteen                       1  4.700000\n",
      "Carol S. Dweck                          3  4.600000\n",
      "Celeste Ng                              1  4.500000\n",
      "Charlaine Harris                        4  4.450000\n",
      "Charles Duhigg                          1  4.600000\n",
      "Charles Krauthammer                     1  4.700000\n",
      "Cheryl Strayed                          1  4.400000\n",
      "Chip Gaines                             1  4.900000\n",
      "Chip Heath                              1  4.600000\n",
      "Chris Cleave                            1  4.100000\n",
      "Chris Kyle                              1  4.600000\n",
      "Chrissy Teigen                          1  4.700000\n",
      "Christina Baker Kline                   1  4.600000\n",
      "Christopher Paolini                     1  4.600000\n",
      "Coloring Books for Adults               1  4.500000\n",
      "Craig Smith                             2  4.800000\n",
      "Crispin Boyer                           1  4.800000\n",
      "DK                                      2  4.550000\n",
      "Dale Carnegie                           5  4.700000\n",
      "Dan Brown                               3  4.200000\n",
      "Daniel H. Pink                          1  4.500000\n",
      "Daniel James Brown                      2  4.800000\n",
      "Daniel Kahneman                         2  4.600000\n",
      "Daniel Lipkowitz                        2  4.400000\n",
      "Dav Pilkey                              7  4.900000\n",
      "Dave Ramsey                             1  4.700000\n",
      "David Goggins                           1  4.800000\n",
      "David Grann                             1  4.600000\n",
      "David McCullough                        1  4.700000\n",
      "David Perlmutter MD                     1  4.600000\n",
      "David Platt                             2  4.700000\n",
      "David Zinczenko                         2  4.400000\n",
      "Deborah Diesen                          2  4.800000\n",
      "Delegates of the Constitutional",
      "        1  4.800000\n",
      "Delia Owens                             1  4.800000\n",
      "Dinah Bucholz                           1  4.700000\n",
      "Don Miguel Ruiz                         6  4.700000\n",
      "Donna Tartt                             2  3.900000\n",
      "Doug Lemov                              2  4.400000\n",
      "Dr. Seuss                               9  4.877778\n",
      "Dr. Steven R Gundry MD                  2  4.450000\n",
      "Drew Daywalt                            3  4.800000\n",
      "E L James                               6  4.233333\n",
      "Eben Alexander                          2  4.300000\n",
      "Edward Klein                            1  4.600000\n",
      "Edward M. Kennedy                       1  4.500000\n",
      "Elie Wiesel                             1  4.700000\n",
      "Elizabeth Strout                        1  4.200000\n",
      "Emily Winfield Martin                   4  4.900000\n",
      "Eric Carle                              7  4.900000\n",
      "Eric Larson                             1  4.400000\n",
      "Ernest Cline                            2  4.600000\n",
      "F. A. Hayek                             1  4.600000\n",
      "F. Scott Fitzgerald                     3  4.400000\n",
      "Francis Chan                            3  4.700000\n",
      "Fredrik Backman                         2  4.600000\n",
      "Gallup                                  9  4.000000\n",
      "Garth Stein                             2  4.700000\n",
      "Gary Chapman                           11  4.736364\n",
      "Gayle Forman                            1  4.300000\n",
      "Geneen Roth                             1  4.200000\n",
      "George Orwell                           1  4.700000\n",
      "George R. R. Martin                     2  4.550000\n",
      "George R.R. Martin                      3  4.600000\n",
      "George W. Bush                          1  4.600000\n",
      "Giles Andreae                           5  4.800000\n",
      "Gillian Flynn                           3  4.000000\n",
      "Glenn Beck                              3  4.566667\n",
      "Golden Books                            1  4.800000\n",
      "Greg Mortenson                          2  4.300000\n",
      "Harper Lee                              6  4.600000\n",
      "Heidi Murkoff                           1  4.400000\n",
      "Hillary Rodham Clinton                  1  4.600000\n",
      "Hopscotch Girls                         1  4.800000\n",
      "Howard Stern                            1  4.300000\n",
      "Ian K. Smith M.D.                       1  4.100000\n",
      "Ina Garten                              3  4.666667\n",
      "J. D. Vance                             2  4.400000\n",
      "J. K. Rowling                           2  4.850000\n",
      "J.K. Rowling                            6  4.450000\n",
      "JJ Smith                                1  4.700000\n",
      "James Comey                             1  4.700000\n",
      "James Dashner                           1  4.500000\n",
      "James Patterson                         2  4.450000\n",
      "Jay Asher                               1  4.500000\n",
      "Jaycee Dugard                           1  4.600000\n",
      "Jeff Kinney                            12  4.800000\n",
      "Jen Sincero                             4  4.700000\n",
      "Jennifer Smith                          2  4.400000\n",
      "Jill Twiss                              1  4.900000\n",
      "Jim Collins                             4  4.500000\n",
      "Joanna Gaines                           2  4.800000\n",
      "Joel Fuhrman MD                         2  4.500000\n",
      "Johanna Basford                         2  4.700000\n",
      "John Green                              5  4.660000\n",
      "John Grisham                            5  4.400000\n",
      "John Heilemann                          1  4.400000\n",
      "Jon Meacham                             1  4.500000\n",
      "Jon Stewart                             1  4.400000\n",
      "Jonathan Cahn                           1  4.600000\n",
      "Jordan B. Peterson                      1  4.700000\n",
      "Julia Child                             1  4.800000\n",
      "Justin Halpern                          1  4.700000\n",
      "Kathryn Stockett                        4  4.800000\n",
      "Keith Richards                          1  4.500000\n",
      "Ken Follett                             1  4.500000\n",
      "Kevin Kwan                              1  4.300000\n",
      "Khaled Hosseini                         1  4.300000\n",
      "Kristin Hannah                          2  4.800000\n",
      "Larry Schweikart                        1  4.600000\n",
      "Laura Hillenbrand                       5  4.800000\n",
      "Laurel Randolph                         2  4.300000\n",
      "Lin-Manuel Miranda                      1  4.900000\n",
      "Lysa TerKeurst                          2  4.750000\n",
      "M Prefontaine                           1  4.600000\n",
      "Madeleine L'Engle                       1  4.500000\n",
      "Malcolm Gladwell                        4  4.500000\n",
      "Margaret Atwood                         1  4.300000\n",
      "Margaret Wise Brown                     3  4.800000\n",
      "Marie Kondō                             4  4.500000\n",
      "Marjorie Sarnat                         2  4.800000\n",
      "Mark Hyman M.D.                         1  4.200000\n",
      "Mark Manson                             3  4.600000\n",
      "Mark Owen                               1  4.600000\n",
      "Mark R. Levin                           2  4.850000\n",
      "Mark Twain                              1  4.200000\n",
      "Markus Zusak                            2  4.600000\n",
      "Marty Noble                             1  4.600000\n",
      "Mary Ann Shaffer                        1  4.700000\n",
      "Maurice Sendak                          1  4.800000\n",
      "Melissa Hartwig Urban                   3  4.600000\n",
      "Michael Lewis                           1  4.700000\n",
      "Michael Pollan                          1  4.400000\n",
      "Michael Wolff                           1  4.200000\n",
      "Michelle Obama                          2  4.800000\n",
      "Mike Moreno                             1  4.300000\n",
      "Mitch Albom                             1  4.800000\n",
      "Muriel Barbery                          1  4.000000\n",
      "Naomi Kleinberg                         2  4.700000\n",
      "Nathan W. Pyle                          1  4.900000\n",
      "National Geographic Kids                1  4.800000\n",
      "Neil deGrasse Tyson                     1  4.700000\n",
      "Paper Peony Press                       1  4.400000\n",
      "Patrick Lencioni                        5  4.600000\n",
      "Patrick Thorpe                          1  4.900000\n",
      "Paul Kalanithi                          1  4.800000\n",
      "Paula Hawkins                           2  4.100000\n",
      "Paula McLain                            1  4.300000\n",
      "Paulo Coelho                            1  4.700000\n",
      "Pete Souza                              1  4.900000\n",
      "Peter A. Lillback                       1  4.500000\n",
      "Phil Robertson                          1  4.800000\n",
      "Pierre Dukan                            1  4.100000\n",
      "Pretty Simple Press                     1  4.600000\n",
      "R. J. Palacio                           5  4.800000\n",
      "RH Disney                               2  4.650000\n",
      "Rachel Hollis                           3  4.600000\n",
      "Raina Telgemeier                        1  4.800000\n",
      "Randall Munroe                          1  4.700000\n",
      "Randy Pausch                            1  4.700000\n",
      "Ray Bradbury                            2  4.600000\n",
      "Rebecca Skloot                          3  4.700000\n",
      "Ree Drummond                            3  4.800000\n",
      "Rick Riordan                           11  4.772727\n",
      "Rob Bell                                1  4.200000\n",
      "Rob Elliott                             8  4.562500\n",
      "Robert Jordan                           1  4.800000\n",
      "Robert Munsch                           2  4.800000\n",
      "Rod Campbell                            4  4.800000\n",
      "Roger Priddy                            5  4.700000\n",
      "Ron Chernow                             1  4.800000\n",
      "Rupi Kaur                               4  4.700000\n",
      "Rush Limbaugh                           2  4.900000\n",
      "Samin Nosrat                            2  4.800000\n",
      "Sandra Boynton                          2  4.800000\n",
      "Sara Gruen                              1  4.500000\n",
      "Sarah Palin                             1  4.600000\n",
      "Sarah Young                             6  4.900000\n",
      "Sasha O'Hara                            1  4.600000\n",
      "Scholastic                              2  4.700000\n",
      "School Zone                             2  4.800000\n",
      "Sherri Duskey Rinker                    2  4.900000\n",
      "Sheryl Sandberg                         2  4.500000\n",
      "Silly Bear                              1  4.800000\n",
      "Stephen Kendrick                        1  4.800000\n",
      "Stephen King                            4  4.525000\n",
      "Stephen R. Covey                        7  4.642857\n",
      "Stephenie Meyer                         7  4.657143\n",
      "Steve Harvey                            1  4.600000\n",
      "Steven D. Levitt                        1  4.500000\n",
      "Stieg Larsson                           6  4.600000\n",
      "Susan Cain                              2  4.600000\n",
      "Suzanne Collins                        11  4.663636\n",
      "Ta-Nehisi Coates                        2  4.700000\n",
      "Tara Westover                           2  4.700000\n",
      "Tatiana de Rosnay                       1  4.600000\n",
      "The College Board                       6  4.383333\n",
      "The Staff of The Late Show with",
      "        1  4.600000\n",
      "The Washington Post                     1  4.600000\n",
      "Thomas Campbell                         1  4.700000\n",
      "Thomas Piketty                          1  4.500000\n",
      "Thug Kitchen                            4  4.600000\n",
      "Timothy Ferriss                         2  4.450000\n",
      "Tina Fey                                1  4.300000\n",
      "Todd Burpo                              2  4.700000\n",
      "Tony Hsieh                              1  4.600000\n",
      "Tucker Carlson                          1  4.800000\n",
      "Veronica Roth                           4  4.400000\n",
      "W. Cleon Skousen                        1  4.800000\n",
      "Walter Isaacson                         3  4.566667\n",
      "William Davis                           2  4.400000\n",
      "William P. Young                        2  4.600000\n",
      "Wizards RPG Team                        3  4.800000\n",
      "Zhi Gang Sha                            2  4.600000\n"
     ]
    }
   ],
   "source": [
    "combined_df = pd.concat([aggregated_authors, aggregated_authors_mean], axis=1)\n",
    "result = combined_df\n",
    "print(result.to_string())"
   ]
  },
  {
   "cell_type": "markdown",
   "id": "9ca6dd92",
   "metadata": {},
   "source": [
    "#### Sort the dataframe by increasing number of books and increasing rating (use the \"sort_values\" function)"
   ]
  },
  {
   "cell_type": "code",
   "execution_count": 46,
   "id": "fc62ca4f",
   "metadata": {},
   "outputs": [
    {
     "name": "stdout",
     "output_type": "stream",
     "text": [
      "(248, 2)\n",
      "                   count  mean\n",
      "author                        \n",
      "Muriel Barbery         1   4.0\n",
      "Chris Cleave           1   4.1\n",
      "Ian K. Smith M.D.      1   4.1\n",
      "Pierre Dukan           1   4.1\n",
      "Elizabeth Strout       1   4.2\n"
     ]
    }
   ],
   "source": [
    "sorted_df = combined_df.sort_values(by=['count', 'mean'])\n",
    "print(sorted_df.head())"
   ]
  },
  {
   "cell_type": "markdown",
   "id": "78d5970e",
   "metadata": {},
   "source": [
    "* Який автор перший у списку?\n",
    "> Відповідь: Muriel Barbery"
   ]
  },
  {
   "cell_type": "markdown",
   "id": "a26748a4",
   "metadata": {},
   "source": [
    "### Diagrams:"
   ]
  },
  {
   "cell_type": "code",
   "execution_count": 55,
   "id": "951b686c",
   "metadata": {},
   "outputs": [
    {
     "data": {
      "image/png": "[encoded data removed]",
      "text/plain": [
       "<Figure size 640x480 with 1 Axes>"
      ]
     },
     "metadata": {},
     "output_type": "display_data"
    }
   ],
   "source": [
    "# scatter plot (\"Точкова діаграма\") for the number of books vs. the rating\n",
    "import matplotlib.pyplot as plt\n",
    "plt.style.use('dark_background')\n",
    "\n",
    "combined_df.plot.scatter(x='count', y='mean', color='r')\n",
    "\n",
    "plt.xlabel('Кількість книг', fontsize=12)\n",
    "plt.ylabel('Рейтинг', fontsize=12)\n",
    "plt.title('Точкова діаграма кількості книг vs. рейтингу', fontsize=14)\n",
    "\n",
    "plt.legend(['Books'], loc='best')\n",
    "\n",
    "plt.show()"
   ]
  },
  {
   "cell_type": "code",
   "execution_count": 75,
   "id": "8b3265bb",
   "metadata": {},
   "outputs": [
    {
     "data": {
      "image/png": "[encoded data removed]",
      "text/plain": [
       "<Figure size 1000x800 with 1 Axes>"
      ]
     },
     "metadata": {},
     "output_type": "display_data"
    }
   ],
   "source": [
    "# Two graphics on one plot\n",
    "\n",
    "# Filter data for the year 2009\n",
    "# to have graphic for few maybe(3) use df_2009 = df[df['year'] == 2009].head(3)\n",
    "df_2009 = df[df['year'] == 2009]\n",
    "\n",
    "# Create two subplots\n",
    "fig, ax = plt.subplots(figsize=(10, 8))\n",
    "\n",
    "# Plot the first subplot\n",
    "df_2009.plot(x='author', y='user_rating', color='skyblue', ax=ax, label='User Rating')\n",
    "# Plot the second subplot\n",
    "df_2009.plot(x='author', y='price', color='salmon', ax=ax, label='Price')\n",
    "\n",
    "# Set title and labels\n",
    "ax.set_title('User Rating and Price of Books in 2009')\n",
    "ax.set_xlabel('Book Name')\n",
    "ax.set_ylabel('Value')\n",
    "\n",
    "# Rotate x-axis labels for better readability\n",
    "plt.xticks(rotation=45, ha='right')\n",
    "\n",
    "# legend\n",
    "plt.legend()\n",
    "\n",
    "# Adjust layout to prevent overlap\n",
    "plt.tight_layout()\n",
    "\n",
    "# Show the plot\n",
    "plt.show()"
   ]
  }
 ],
 "metadata": {
  "kernelspec": {
   "display_name": "Python 3 (ipykernel)",
   "language": "python",
   "name": "python3"
  },
  "language_info": {
   "codemirror_mode": {
    "name": "ipython",
    "version": 3
   },
   "file_extension": ".py",
   "mimetype": "text/x-python",
   "name": "python",
   "nbconvert_exporter": "python",
   "pygments_lexer": "ipython3",
   "version": "3.11.5"
  }
 },
 "nbformat": 4,
 "nbformat_minor": 5
}
